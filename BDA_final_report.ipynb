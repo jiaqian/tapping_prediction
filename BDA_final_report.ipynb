{
 "cells": [
  {
   "cell_type": "markdown",
   "metadata": {},
   "source": [
    "<h1><center>Logistic Regression for a Finger Tapping Task</center></h1>\n",
    "<h3><center>Bayesian Data Analysis project</center></h3>\n",
    "\n",
    "<h4><center>Pola Elisabeth Schwöbel (190792), Jia Qian (183308)</center></h4>"
   ]
  },
  {
   "cell_type": "code",
   "execution_count": 32,
   "metadata": {},
   "outputs": [],
   "source": [
    "import pickle\n",
    "import pystan\n",
    "import numpy as np\n",
    "import matplotlib.pyplot as plt\n",
    "from scipy.special import expit\n",
    "import pandas as pd\n",
    "import PSIS"
   ]
  },
  {
   "cell_type": "code",
   "execution_count": 29,
   "metadata": {},
   "outputs": [],
   "source": [
    "# Load data\n",
    "subtracted_means_train = np.load('data/fully_preprocessed/subtracted_mean_train.npy')\n",
    "subtracted_means_test = np.load('data/fully_preprocessed/subtracted_mean_test.npy')\n",
    "train_labels = np.load('data/aligned_labels_train.npy')\n",
    "test_labels = np.load('data/aligned_labels_test.npy')\n",
    "participant_labels_train = np.load('data/participants_labels_train.npy')\n",
    "participant_labels_test= np.load('data/participants_labels_test.npy')"
   ]
  },
  {
   "cell_type": "markdown",
   "metadata": {},
   "source": [
    "# 1. The task\n",
    "Subjects perform one out of two motor tasks (tap with their left finger or tap with their right finger) while their brain activity is recorded via functional magnetic resonance imaging (fMRI). We aim to build an algorithm that can distinguish between the two tasks, i.e. predict whether the subject was tapping left or right based on their brain activity. An example fMRI image can be seen below:\n",
    "\n",
    "![](report_images/example_slices.png)\n",
    "\n",
    " *Figure 1: Example brain scans. Three possible directions in which to extract brain slices are shown (coronal/saggital and axial view). For our task, we will be working on axial view slices (rightmost image).*"
   ]
  },
  {
   "cell_type": "markdown",
   "metadata": {},
   "source": [
    "# 2. Data and Preprocessing\n",
    "\n",
    "\n",
    "We have fMRI brain scans from 29 subjects, these are all young, healthy adults. The data is 4 dimensional: Volumetric brain scans varying over time.\n",
    "Participants were scanned while performing a blockdesign\n",
    "motor task, where they were visually cued by a blinking\n",
    "light, indicating whether they should tap their fingers on their\n",
    "right (green light) or left hand (red light). In between the tapping tasks is a resting block. The sequence \"right-rest-left-rest\" is performed 10 times for each subject. Task blocks were 20 s in length,\n",
    "and rest blocks were 9.88 s (597.6 s total scan time). (See [1] for further details.)\n",
    "\n",
    "\n",
    "![](report_images/onset.png)\n",
    "   *Figure 2: Block design. The task onsets for left and right are marked by vertical lines. The dashed lines represent the expected brain activity we will be measuring.*\n",
    "\n",
    "As a preprocessing step, we select relevant slices by considering fixed time points at only one location in the brain. The time points can easily be selected given the task onsets above. For the spatial selection, however, we perform a preliminary analysis: We subtract the two expected brain activities from Figure 2 to form a \"regressor\". For a participant in the training set, we then look for voxels which show activation following that pattern. \n",
    "\n",
    "<img src=\"report_images/regressor.png\" width=\"600\">\n",
    "\n",
    "*Figure 3: \"Regressor\" - relevant signal we are looking for.\"*\n",
    "\n",
    "Figure 4 shows the results of this analysis. The voxels with large negative correlation to the signal (red) are active when the participants clap right. Voxels with large positive correlation to the signal (blue) are active when the participants clap left. \n",
    "\n",
    "<img src=\"report_images/relevant_slices.png\" width=\"1200\">\n",
    "\n",
    "\n",
    "   *Figure 4: Voxels exhibiting a strong signal following the block design stimuli.*\n",
    "\n",
    "This plot indicates that the strongest signal is exhibited around 43 in this participant. Since the images are all pre-aligned we can assume this is also the case for the rest of the participants and we thus choose to work on slice 43 throughout. Once the slices are selected, we downsample them by a factor 4 in x- and y-direction to the large computational costs of the STAN sampling. Additionally, we subtract the mean to enhance the differences between the conditions. After this preprocessing pipeline, we are left with 120x29 = 3480 images of shape 14x16 each.\n",
    "\n",
    "![](report_images/preprocessing.png)\n",
    "\n",
    "   *Figure 5: Preprocessed images. (Example image, mean image from the same participant and example image where mean image has been subtracted, all downsampled.)*\n",
    "   \n",
    "[1] *Rasmussen, P. M., Hansen, L. K., Madsen, K. H., Churchill, N. W., & Strother, S. C. (2012). Model sparsity and brain pattern interpretation of classification models in neuroimaging. Pattern Recognition, 45(6), 2085-2100.*"
   ]
  },
  {
   "cell_type": "markdown",
   "metadata": {},
   "source": [
    "# 3. Models\n",
    "## 3.1 Pooled Model\n",
    "\n",
    "As discussed above, we aim to distinguish between two conditions: 'tap left' encoded  as 0, and 'tap right' which we encode as 1. For each image, are interested in $\\theta$, the probability for the label being 1. The label distribution is bernoulli with \n",
    "$$\n",
    "    p(y|\\theta) = \\theta^y (1-\\theta)^{1-y}. \n",
    "$$\n",
    "\n",
    "$\\theta$ is obtained from the images via logistic regression as follows: We model \n",
    "\n",
    "$$ z = x \\beta + \\alpha.$$\n",
    "\n",
    "We put a normal prior on the weights (both intercept $\\alpha$ and slope $\\beta$, $w = (\\alpha, \\beta)$), \n",
    "\n",
    "$$ p(w) = \\mathcal{N}(w|0, \\sigma^2 I), $$\n",
    "\n",
    "effectively regularizing the regression and forcing the weights close to zero. \n",
    "\n",
    "The regression output values z are then transferred into probabilities via the inverse logistic transformation\n",
    "\n",
    "$$ \\text{logit}^{-1}: IR \\rightarrow (0, 1),  \\ \\text{logit}^{-1}(z) = \\frac{e^z}{1+e^z},$$ \n",
    "yielding \n",
    "$$\\theta = \\text{logit}^{-1}(z).$$\n",
    "\n",
    "Below is the STAN code:"
   ]
  },
  {
   "cell_type": "code",
   "execution_count": null,
   "metadata": {},
   "outputs": [],
   "source": [
    "K = subtracted_means_train.shape[1]\n",
    "per_voxel_std = subtracted_means_train.std(axis=0).mean()\n",
    "pooled_data_dict = {'y': train_labels,\n",
    "               'x': subtracted_means_train,\n",
    "               'N': len(train_labels), \n",
    "               'K': K, \n",
    "               'prior_alpha_cov': per_voxel_std,\n",
    "               'prior_beta_cov': np.eye(K)*per_voxel_std, \n",
    "               'zero_vector': np.zeros(K)}"
   ]
  },
  {
   "cell_type": "code",
   "execution_count": null,
   "metadata": {},
   "outputs": [],
   "source": [
    "pooled_code = \"\"\"\n",
    "data {\n",
    "  int<lower=0> N;   // number of data items\n",
    "  int<lower=0> K;   // number of predictors\n",
    "  matrix[N, K] x;   // predictor matrix\n",
    "  matrix[K, K] prior_beta_cov; //covariance matrix for prior on weights\n",
    "  real<lower=0> prior_alpha_cov; // covariance for prior on intercept\n",
    "  vector[K] zero_vector; // will be zero vector\n",
    "  int y[N];  // labels\n",
    "}\n",
    "parameters {\n",
    "  real alpha;           // intercept\n",
    "  vector[K] beta;       // coefficients for predictors\n",
    "}\n",
    "transformed parameters {\n",
    "    vector[N] z;      // regression outcome vector (inverse logit)\n",
    "    z = x * beta + alpha; //linear predictor\n",
    "}\n",
    "model {\n",
    "  alpha ~ normal(0, prior_alpha_cov); // prior on the intercept\n",
    "  // beta ~ multi_normal(zero_vector, prior_beta_cov); // prior on the weights\n",
    "  beta ~ normal(0, prior_alpha_cov);\n",
    "  y ~ bernoulli_logit(z); \n",
    "}\n",
    "generated quantities {\n",
    "    vector[N] log_lik; //log likelihoods\n",
    "    for (i in 1:N)\n",
    "        log_lik[i] = bernoulli_logit_lpmf( y[i] | z[i]);\n",
    "}\"\"\"\n",
    "pooled_model = pystan.StanModel(model_code=pooled_code)\n",
    "pooled_fit = pooled_model.sampling(data=pooled_data_dict, iter=2000, chains=4)"
   ]
  },
  {
   "cell_type": "code",
   "execution_count": 32,
   "metadata": {},
   "outputs": [],
   "source": [
    "pooled_model_dict = pickle.load(open(\"models/subtracted_mean_pooled_FINAL.p\", 'rb'))\n",
    "pooled_fit = pooled_model_dict['fit']\n",
    "s = pooled_fit.summary()\n",
    "summary = pd.DataFrame(s['summary'], columns=s['summary_colnames'], index=s['summary_rownames'])"
   ]
  },
  {
   "cell_type": "markdown",
   "metadata": {},
   "source": [
    "__3.1.1 Convergence Analysis and Model Interpretation__:\n",
    "\n",
    "We plot a histograms of the $\\widehat{R}$ to get an idea about the convergence of our model. The values all very close to 1 incidcating convergence. (left plot)\n",
    "\n",
    "As another sanity check (right plot), we plot the mean $\\beta$ for all draws and each pixel. This map of the regression slopes can be viewed as a feature map, indicating which part of the brain are relevant for the regression task. We see that the feature map relfects the expected activations from Figure 4 very well, indicating a meaningful model. "
   ]
  },
  {
   "cell_type": "code",
   "execution_count": 33,
   "metadata": {},
   "outputs": [
    {
     "data": {
      "image/png": "[encoded data removed]",
      "text/plain": [
       "<Figure size 720x360 with 2 Axes>"
      ]
     },
     "metadata": {
      "needs_background": "light"
     },
     "output_type": "display_data"
    }
   ],
   "source": [
    "fig, ax = plt.subplots(1, 2, figsize=(10, 5))\n",
    "ax[0].hist(summary.loc[:, 'Rhat'])\n",
    "ax[0].set_title('Histogram of $\\widehat{R}$')\n",
    "mean_beta  = pooled_fit['beta'].mean(axis=0)\n",
    "ax[1].imshow(mean_beta.reshape(14, 16));\n",
    "ax[1].set_title(r'Mean of draws for $\\beta$');"
   ]
  },
  {
   "cell_type": "markdown",
   "metadata": {},
   "source": [
    "__3.1.2 Evaluation of model fit with PSIS-loo cross-validation__"
   ]
  },
  {
   "cell_type": "code",
   "execution_count": 44,
   "metadata": {
    "scrolled": true
   },
   "outputs": [],
   "source": [
    "log_likelihoods = pooled_fit['log_lik']\n",
    "# cross validated fit\n",
    "loo, _, ks = PSIS.psisloo(log_likelihoods)\n",
    "# raw fit\n",
    "lppd = np.sum(np.log(np.exp(log_likelihoods).mean(axis=0)))"
   ]
  },
  {
   "cell_type": "code",
   "execution_count": 47,
   "metadata": {},
   "outputs": [
    {
     "data": {
      "text/plain": [
       "(nan, 0.9993383660411598)"
      ]
     },
     "execution_count": 47,
     "metadata": {},
     "output_type": "execute_result"
    }
   ],
   "source": [
    "# Investigate loo-fit and raw fit\n",
    "loo, np.exp(lppd/3120)"
   ]
  },
  {
   "cell_type": "markdown",
   "metadata": {},
   "source": [
    "As seen above, we encounter numerical problems evaluating the model fit with the loo-cross validation scheme. To get an idea of the problem and the quality of the fit, we investigate the raw likelihoods instead. "
   ]
  },
  {
   "cell_type": "code",
   "execution_count": 22,
   "metadata": {},
   "outputs": [
    {
     "data": {
      "image/png": "[encoded data removed]",
      "text/plain": [
       "<Figure size 432x288 with 1 Axes>"
      ]
     },
     "metadata": {
      "needs_background": "light"
     },
     "output_type": "display_data"
    }
   ],
   "source": [
    "plt.hist(np.exp(log_likelihoods.flatten()));"
   ]
  },
  {
   "cell_type": "markdown",
   "metadata": {},
   "source": [
    "All the likelihoods are very close to one, this indicates overfitting and is probably the reason for the numerical issues. We discuss this more in the conclusion."
   ]
  },
  {
   "cell_type": "markdown",
   "metadata": {},
   "source": [
    "__3.1.3 Predictive Performance__\n",
    "\n",
    "We evaluate the predictive performance on unseen test data. For the pooled model, we have left out all samples from 3 participants. We now evaluate the perfomance on those. \n",
    "\n",
    "In order to do this, we extract all the sampled $\\alpha$ and $\\beta$ from the model. We then perform the regression as described above, mapping each new image $x_t$ to a probabilitiy via\n",
    "$$ z = x_t \\beta + \\alpha$$\n",
    "and\n",
    "$$\\theta = \\text{logit}^{-1}(z).$$"
   ]
  },
  {
   "cell_type": "code",
   "execution_count": 12,
   "metadata": {
    "collapsed": true
   },
   "outputs": [],
   "source": [
    "def make_predictions(images, beta, alpha):\n",
    "    nr_images = images.shape[0]\n",
    "    nr_samples = beta.shape[0]\n",
    "    predictions = np.empty((nr_samples, nr_images))\n",
    "    for i in range(nr_samples):\n",
    "        predictions[i, :] = alpha[i] + np.matmul(subtracted_means_test, beta[i, :])\n",
    "    return expit(predictions)"
   ]
  },
  {
   "cell_type": "code",
   "execution_count": 13,
   "metadata": {
    "collapsed": true
   },
   "outputs": [],
   "source": [
    "test_predictions = make_predictions(subtracted_means_test, pooled_fit['beta'], pooled_fit['alpha'])"
   ]
  },
  {
   "cell_type": "markdown",
   "metadata": {},
   "source": [
    "This way, we obtain a distribution over $\\theta$ for each image $x_t$. We plot the distribution for the first test image below."
   ]
  },
  {
   "cell_type": "code",
   "execution_count": 14,
   "metadata": {},
   "outputs": [
    {
     "name": "stdout",
     "output_type": "stream",
     "text": [
      "The correct label is: 0\n"
     ]
    },
    {
     "data": {
      "image/png": "[encoded data removed]",
      "text/plain": [
       "<Figure size 432x288 with 1 Axes>"
      ]
     },
     "metadata": {
      "needs_background": "light"
     },
     "output_type": "display_data"
    }
   ],
   "source": [
    "plt.hist(test_predictions[:, 0], range=[0, 1]);\n",
    "plt.xlabel(r'$\\theta$');\n",
    "print('The correct label is:', test_labels[0])"
   ]
  },
  {
   "cell_type": "markdown",
   "metadata": {},
   "source": [
    "The distribution is very peaky around 0, which is indeed the true label. Our model makes the correct prediction, and does so with high confidence. To get an overall measure for predictive performance, we compute the mean $\\theta$ over all samples for each image. We then make a prediction by simple thresholding the mean $\\theta$ at 0.5.\n",
    "\n",
    "We thereby obtain an a posteriori point estimate that we can compare to the true label. Proceeding this way, we obtain an accuracy of 98.86 %, as can be seen in the cell below."
   ]
  },
  {
   "cell_type": "code",
   "execution_count": 15,
   "metadata": {},
   "outputs": [
    {
     "name": "stdout",
     "output_type": "stream",
     "text": [
      "The test accuracy corresponding to the maximum a posterior estimates is: 0.9861111111111112\n"
     ]
    }
   ],
   "source": [
    "max_a_posteriori = test_predictions.mean(axis=0).round().astype(int)\n",
    "print('The test accuracy corresponding to the maximum a posterior estimates is:',\n",
    "      sum(max_a_posteriori==test_labels)/len(test_labels))"
   ]
  },
  {
   "cell_type": "markdown",
   "metadata": {},
   "source": [
    "## 3.2 Hierarchical Model\n",
    "\n",
    "In the hierarchical model, every participant has their own model, parameterized by $\\alpha_p$ and $\\beta_p$, while from the same distribution as illustrated below.\n",
    "\n",
    "<img src=\"report_images/hierarchical.png\" style=\"width: 300px;\"/>\n",
    "\n",
    "More specifically, we have $\\theta$ as the likelihood of \"1\" as in pooled model, the difference here is that assume every participant has his\\her own model. \n",
    "$$\n",
    "     p(y|\\theta) = \\theta^y (1-\\theta)^{1-y}. \n",
    "$$ \n",
    "$$\n",
    "z_{ip} = x_{i\\in p} \\beta_p + \\alpha_p.$$\n",
    "\n",
    "$\\beta$ is zero-mean multivariate normal distribution with different variances for different models. For one specific model p, its all dimensions have the identical variance $\\sigma_p$.\n",
    "$$\\beta_p \\sim N(0,\\sigma_p)  $$\n",
    "\n",
    "And $\\alpha_p$ is normal distribution as well, with zero mean and identical variance for all participants.\n",
    "$$ \\alpha_p \\sim N(0, \\eta)$$\n",
    "\n",
    "\n",
    "The regression output values $z_p$ are then transferred into probabilities via the inverse logistic transformation\n",
    "\n",
    "$$ \\text{logit}^{-1}: IR \\rightarrow (0, 1),  \\ \\text{logit}^{-1}(z_{ip}) = \\frac{e^{z_{ip}}}{1+e^{z_{ip}}},$$ \n",
    "yielding \n",
    "$$\\theta_i = \\text{logit}^{-1}(z_{ip}).$$\n",
    "\n"
   ]
  },
  {
   "cell_type": "markdown",
   "metadata": {},
   "source": [
    "### 3.2.1 Data processing\n"
   ]
  },
  {
   "cell_type": "code",
   "execution_count": 33,
   "metadata": {},
   "outputs": [
    {
     "name": "stdout",
     "output_type": "stream",
     "text": [
      "trainig size (2900, 99)\n",
      "test size (580, 99)\n"
     ]
    }
   ],
   "source": [
    "train = np.load('new_data/aligned_train.npy')\n",
    "test = np.load('new_data/aligned_test.npy')\n",
    "train_labels = np.load('new_data/aligned_labels_train.npy')\n",
    "test_labels = np.load('new_data/aligned_labels_test.npy')\n",
    "participant_labels_train = np.load('new_data/participants_labels_train.npy')\n",
    "participant_labels_test= np.load('new_data/participants_labels_test.npy')\n",
    "N_tr = train.shape[0]\n",
    "N_te = test.shape[0]\n",
    "train_down = train[:,::6,::6].flatten().reshape(N_tr,-1)\n",
    "test_down = test[:,::6,::6].flatten().reshape(N_te,-1)\n",
    "train_down = (train_down-np.min(train_down))/(np.max(train_down)-np.min(train_down))\n",
    "test_down = (test_down-np.min(test_down))/(np.max(test_down)-np.min(test_down))\n",
    "subtracted_means_train = train_down\n",
    "subtracted_means_test = test_down\n",
    "\n",
    "participant_labels_test[participant_labels_test==0] = 26\n",
    "participant_labels_test[participant_labels_test==1] = 27\n",
    "participant_labels_test[participant_labels_test==2] = 28\n",
    "subtracted_means_data = np.vstack((subtracted_means_train,subtracted_means_test))\n",
    "y_labels = np.vstack((train_labels.reshape(-1,1),test_labels.reshape(-1,1)))\n",
    "participant_labels = np.vstack((participant_labels_train.reshape(-1,1),participant_labels_test.reshape(-1,1)))\n",
    "num_pix = train_down.shape[1]\n",
    "X_tr = np.zeros((100*29,num_pix),dtype=float)\n",
    "X_te = np.zeros((20*29,num_pix),dtype=float)\n",
    "Y_tr = np.zeros((100*29,1),dtype=int)\n",
    "Y_te = np.zeros((20*29,1),dtype=int)\n",
    "participant_labels_tr = np.zeros((100*29,1),dtype=int)\n",
    "participant_labels_te = np.zeros((20*29,1),dtype=int)\n",
    "for i in range(29):\n",
    "    X_tr[i*100:(i+1)*100,:] = subtracted_means_data[np.where(participant_labels==i)[0][:100],:]\n",
    "    X_te[i*20:(i+1)*20,:] = subtracted_means_data[np.where(participant_labels==i)[0][100:120],:]\n",
    "    Y_tr[i*100:(i+1)*100] = y_labels[np.where(participant_labels==i)[0][:100]]\n",
    "    Y_te[i*20:(i+1)*20] = y_labels[np.where(participant_labels==i)[0][100:120]]\n",
    "    participant_labels_tr[i*100:(i+1)*100] = participant_labels[np.where(participant_labels==i)[0][:100]]\n",
    "    participant_labels_te[i*20:(i+1)*20] = participant_labels[np.where(participant_labels==i)[0][100:120]]\n",
    "print(\"trainig size\", X_tr.shape )\n",
    "print(\"test size\", X_te.shape )"
   ]
  },
  {
   "cell_type": "markdown",
   "metadata": {},
   "source": [
    "### 3.2.2 Model"
   ]
  },
  {
   "cell_type": "code",
   "execution_count": 15,
   "metadata": {},
   "outputs": [],
   "source": [
    "K = X_tr.shape[1]\n",
    "hierarchical_data_dict = {'y': Y_tr.reshape(len(Y_tr)),\n",
    "               'x': X_tr,\n",
    "               'N': len(Y_tr), \n",
    "               'K': K , \n",
    "               'G': 29,\n",
    "               'g': participant_labels_tr.reshape(len(Y_tr))+1}"
   ]
  },
  {
   "cell_type": "code",
   "execution_count": null,
   "metadata": {},
   "outputs": [],
   "source": [
    "hierarchical_code = \"\"\"\n",
    "data {\n",
    "    int<lower=0> N;   // number of data items\n",
    "    int<lower=0> K;   // number of predictors\n",
    "    int<lower=0> G; // ADDED: number of groups \n",
    "    int<lower=1,upper=K> g[N]; // ADDED: group indicator \n",
    "    matrix[N, K] x;   // predictor matrix\n",
    "    int y[N];  // labels\n",
    "}\n",
    "parameters {\n",
    "  real alpha[G];           // group intercepts\n",
    "  matrix[G, K] beta;       // group coefficients for predictors\n",
    "  real<lower=0> prior_alpha_cov; // hyperprior:  covariance for prior on intercept\n",
    "  real<lower=0> prior_beta_cov[G]; //hyperprior: covariance matrix for prior on weights\n",
    "}\n",
    "\n",
    "transformed parameters {\n",
    "    vector[N] z;      // regression outcome vector (inverse logit)\n",
    "    for (i in 1:N) {\n",
    "        z[i] = x[i] * beta[g[i]]'  + alpha[g[i]]; }\n",
    "}\n",
    "\n",
    "model {\n",
    "  alpha ~ normal(0, prior_alpha_cov); // prior on the intercept\n",
    "  for (i in 1:G) {\n",
    "      beta[i] ~ normal(0, prior_beta_cov[i]); } // prior on the weights\n",
    "  y ~ bernoulli_logit(z); \n",
    "}\"\"\"\n",
    "hierarchical_model = pystan.StanModel(model_code=hierarchical_code)\n",
    "hierarchical_fit = hierarchical_model.sampling(data=hierarchical_data_dict, iter=2000, chains=4)"
   ]
  },
  {
   "cell_type": "code",
   "execution_count": 34,
   "metadata": {
    "scrolled": true
   },
   "outputs": [
    {
     "name": "stderr",
     "output_type": "stream",
     "text": [
      "/anaconda3/lib/python3.6/site-packages/pystan/misc.py:399: FutureWarning: Conversion of the second argument of issubdtype from `float` to `np.floating` is deprecated. In future, it will be treated as `np.float64 == np.dtype(float).type`.\n",
      "  elif np.issubdtype(np.asarray(v).dtype, float):\n"
     ]
    }
   ],
   "source": [
    "model_dict = pickle.load(open(\"model/model_fit_low_resolution_shuffle.pkl\", 'rb'))\n",
    "hierarchical_fit = model_dict['fit']\n",
    "mean_beta  = hierarchical_fit['beta'].mean(axis=0)\n",
    "alpha_mean = hierarchical_fit['alpha'].mean(axis=0)"
   ]
  },
  {
   "cell_type": "markdown",
   "metadata": {},
   "source": [
    "### 3.2.3 Predictive performance\n",
    "\n",
    "Every participant has 120 images, we split it into training(100) and test(20) datasets.\n",
    "\n",
    "The predictive distribution:\n",
    "\n",
    "$p(y_*|D,x_*) = \\int p(y_*| \\rho,x_*)p(\\rho|D)d\\rho \\approx \\frac{1}{T} \\sum_{t=1}^T p(y_*|\\rho_t,x_*), \\rho_t \\sim p(\\rho|D) $\n",
    "\n",
    "Where D is the dataset, $\\rho$ represents the parameters."
   ]
  },
  {
   "cell_type": "code",
   "execution_count": 14,
   "metadata": {},
   "outputs": [],
   "source": [
    "def make_predictions_ave(images, beta, alpha):\n",
    "    nr_images = images.shape[0]\n",
    "    nr_samples = beta.shape[0]\n",
    "    predictions = np.empty((nr_images,nr_samples))\n",
    "    for j in range(29):\n",
    "        sub_test = images[j*20:(j+1)*20]\n",
    "        predictions[j*20:(j+1)*20,:] = np.matmul(sub_test,beta[:,j, :].T)+ alpha[:,j]\n",
    "    return expit(predictions)"
   ]
  },
  {
   "cell_type": "code",
   "execution_count": 35,
   "metadata": {},
   "outputs": [
    {
     "name": "stdout",
     "output_type": "stream",
     "text": [
      "MAP accuracy is  0.9982758620689656\n",
      "mean accuracy is  0.9982758620689656\n"
     ]
    }
   ],
   "source": [
    "test_predictions = make_predictions(X_te,mean_beta,alpha_mean)\n",
    "acc = np.sum(test_predictions.reshape(-1,1).round()==Y_te)/test_predictions.shape[0]\n",
    "print('MAP accuracy is ',acc)\n",
    "test_predictions_ = make_predictions_ave(X_te, hierarchical_fit['beta'], hierarchical_fit['alpha'])\n",
    "acc_ave = np.sum(np.mean(test_predictions_,axis=1).reshape(-1,1).round()==Y_te)/test_predictions_.shape[0]\n",
    "print('mean accuracy is ',acc_ave)"
   ]
  },
  {
   "cell_type": "code",
   "execution_count": 37,
   "metadata": {},
   "outputs": [
    {
     "name": "stdout",
     "output_type": "stream",
     "text": [
      "effective number of parameters is  1242.2669961525967\n"
     ]
    }
   ],
   "source": [
    "from psis import psisloo\n",
    "log_likelihoods = hierarchical_fit['log_lik']\n",
    "loo, _, ks = psisloo(log_likelihoods)\n",
    "P_eff=np.sum(np.log(np.exp(log_likelihoods).mean(axis=0)))-loo\n",
    "print(\"effective number of parameters is \",P_eff)"
   ]
  },
  {
   "cell_type": "code",
   "execution_count": 38,
   "metadata": {},
   "outputs": [
    {
     "data": {
      "text/plain": [
       "Text(0.5,0,'k values')"
      ]
     },
     "execution_count": 38,
     "metadata": {},
     "output_type": "execute_result"
    },
    {
     "data": {
      "image/png": "[encoded data removed]",
      "text/plain": [
       "<Figure size 576x360 with 1 Axes>"
      ]
     },
     "metadata": {},
     "output_type": "display_data"
    }
   ],
   "source": [
    "plt.figure(figsize=(8,5))\n",
    "plt.bar([1,2],[np.sum(ks<=0.7),np.sum(ks>0.7)])\n",
    "plt.xticks(np.arange(1,3),('<=0.7','>0.7'))\n",
    "plt.xlabel('k values')"
   ]
  },
  {
   "cell_type": "markdown",
   "metadata": {},
   "source": [
    "## 3.3 Convolutional Neural Network \n",
    "We compare the predictive performance of the statistical models to the one of a simple convolutional neural network. Out architecture has two convolutional layers each followed by a pooling layer, and a fully connected network with one hidden layer as defined below."
   ]
  },
  {
   "cell_type": "code",
   "execution_count": null,
   "metadata": {},
   "outputs": [],
   "source": [
    "# define CNN\n",
    "class CNN_net(nn.Module):\n",
    "    def __init__(self):\n",
    "        super(CNN_net,self).__init__()\n",
    "        self.conv1 = nn.Conv2d(in_channels=1,out_channels=30,kernel_size=4,padding=0,stride=2)\n",
    "        self.pool1 = nn.MaxPool2d(kernel_size=2,padding=0,stride=1)\n",
    "        self.conv2 = nn.Conv2d(in_channels=30,out_channels=15,kernel_size=4,padding=0,stride=1)\n",
    "        self.pool2 = nn.MaxPool2d(kernel_size=2,padding=0,stride=1)\n",
    "        self.num_fea = 15*20*25#20*20,26*26\n",
    "        self.fc1 = nn.Sequential(nn.Linear(in_features=self.num_fea,out_features=128,bias=True),\n",
    "                                 nn.ReLU(),\n",
    "                                 nn.Dropout(0.5),\n",
    "                                 nn.Linear(in_features=128,out_features=2,bias=False))\n",
    "    def forward(self, x):\n",
    "        conv_x = self.conv1(x)\n",
    "        activated_x = F.relu(conv_x)\n",
    "        pooled_x = self.pool1(activated_x)\n",
    "        conv_x = self.conv2(pooled_x)\n",
    "        activated_x = F.relu(conv_x)\n",
    "        pooled_x = self.pool2(activated_x)\n",
    "        x1 = pooled_x.view(-1,self.num_fea)\n",
    "        x = self.fc1(x1)\n",
    "        return F.softmax(x, dim=1), conv_x, activated_x, pooled_x"
   ]
  },
  {
   "cell_type": "code",
   "execution_count": null,
   "metadata": {},
   "outputs": [],
   "source": [
    "# for the sake of demo, we load the trained model directly\n",
    "cnn = CNN_net()\n",
    "cnn.load_state_dict(torch.load('model/cnn'))\n",
    "out,conv_x, activated_x, pooled_x = cnn(torch.from_numpy(test_X))\n",
    "test_pred = torch.max(out, 1)[1].data.numpy()\n",
    "acc = np.sum(test_pred==test_label)/N_te\n",
    "print('test accuracy: ',acc)"
   ]
  },
  {
   "cell_type": "code",
   "execution_count": 33,
   "metadata": {},
   "outputs": [],
   "source": [
    "cnn = CNN_net()\n",
    "optimizer = optim.Adam(cnn.parameters(), lr=1e-4)\n",
    "criterion = nn.CrossEntropyLoss()"
   ]
  },
  {
   "cell_type": "markdown",
   "metadata": {},
   "source": [
    "Here is the learning curve of test data set, the test accuracy stablized around 0.8 after 150 epochs.\n",
    "\n",
    "<img src=\"FromJia/test_acc_150lp_fin.png\" style=\"width: 600px;\"/> \n",
    "\n",
    "We also plot the features from convolutional and pooled layers.\n",
    "\n",
    "<img src=\"FromJia/conv_layer.png\" style=\"width: 1000px;\"/>\n",
    "\n",
    "Visualization of convolutional layer\n",
    "\n",
    "<img src=\"FromJia/pool_layer.png\" style=\"width: 1000px;\"/> \n",
    "Visualization of pooled layer"
   ]
  },
  {
   "cell_type": "markdown",
   "metadata": {},
   "source": [
    "# 4. Conclusion\n",
    "\n",
    "Both the pooled and the hierarchical model reasonably fit the data.\n",
    "In the prediction task, both the pooled model and the hierarchical model have a good predictice accuracy (98.61% and 99.8% accuracy, respectively). Due to the different train-test-splits, however, the predictive performance isn't strictly comparable. \n",
    "The neural network performs less well.\n",
    "\n",
    "The models both solve the task to a satisfactory degree, but especially the pooled model seems to exhibit overfitting (likelihoods close to 1), which causes the PSIS-loo cross validation to break down due to numerical reasons. This might be due to the large number of parameters in the regression where we could regularize the model more by forcing the weights closer to zero or by explicitly enforcing sparsity (weights outside the brain should be zero). An alternative approach could be to pre-extract smaller feature vectors, for example with classic feature extraction or machine learning methods."
   ]
  },
  {
   "cell_type": "code",
   "execution_count": null,
   "metadata": {},
   "outputs": [],
   "source": []
  }
 ],
 "metadata": {
  "kernelspec": {
   "display_name": "Python 3",
   "language": "python",
   "name": "python3"
  },
  "language_info": {
   "codemirror_mode": {
    "name": "ipython",
    "version": 3
   },
   "file_extension": ".py",
   "mimetype": "text/x-python",
   "name": "python",
   "nbconvert_exporter": "python",
   "pygments_lexer": "ipython3",
   "version": "3.6.5"
  }
 },
 "nbformat": 4,
 "nbformat_minor": 2
}
